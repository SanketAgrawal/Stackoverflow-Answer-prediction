{
 "cells": [
  {
   "cell_type": "code",
   "execution_count": null,
   "metadata": {},
   "outputs": [],
   "source": [
    "import pandas as ad"
   ]
  },
  {
   "cell_type": "code",
   "execution_count": 7,
   "metadata": {
    "colab": {
     "base_uri": "https://localhost:8080/",
     "height": 445
    },
    "colab_type": "code",
    "id": "aADBpa_5b6WI",
    "outputId": "3b2ac953-be29-4295-a405-af82a17452e6"
   },
   "outputs": [
    {
     "data": {
      "text/html": [
       "<div>\n",
       "<style scoped>\n",
       "    .dataframe tbody tr th:only-of-type {\n",
       "        vertical-align: middle;\n",
       "    }\n",
       "\n",
       "    .dataframe tbody tr th {\n",
       "        vertical-align: top;\n",
       "    }\n",
       "\n",
       "    .dataframe thead th {\n",
       "        text-align: right;\n",
       "    }\n",
       "</style>\n",
       "<table border=\"1\" class=\"dataframe\">\n",
       "  <thead>\n",
       "    <tr style=\"text-align: right;\">\n",
       "      <th></th>\n",
       "      <th>question_id</th>\n",
       "      <th>answer_id</th>\n",
       "      <th>title</th>\n",
       "      <th>question_body</th>\n",
       "      <th>answer_body</th>\n",
       "      <th>accepted_answer_id</th>\n",
       "      <th>answer_count</th>\n",
       "      <th>que_comment_count</th>\n",
       "      <th>ans_comment_count</th>\n",
       "      <th>community_owned_date</th>\n",
       "      <th>que_creation_date</th>\n",
       "      <th>ans_creation_date</th>\n",
       "      <th>favorite_count</th>\n",
       "      <th>last_activity_date</th>\n",
       "      <th>que_last_edit_date</th>\n",
       "      <th>ans_last_edit_date</th>\n",
       "      <th>last_editor_display_name</th>\n",
       "      <th>last_editor_user_id</th>\n",
       "      <th>owner_user_id</th>\n",
       "      <th>post_type_id</th>\n",
       "      <th>que_score</th>\n",
       "      <th>ans_score</th>\n",
       "      <th>que_tags</th>\n",
       "      <th>ans_tags</th>\n",
       "      <th>que_view_count</th>\n",
       "    </tr>\n",
       "  </thead>\n",
       "  <tbody>\n",
       "    <tr>\n",
       "      <th>0</th>\n",
       "      <td>53851100.0</td>\n",
       "      <td>53851593</td>\n",
       "      <td>Hide/Collapse Image in RowDetailsTemplate</td>\n",
       "      <td>&lt;p&gt;I have a WPF/XAML DataGrid with a RowDetail...</td>\n",
       "      <td>&lt;p&gt;thanks to Clemens link the solution was to ...</td>\n",
       "      <td>NaN</td>\n",
       "      <td>1.0</td>\n",
       "      <td>2.0</td>\n",
       "      <td>0</td>\n",
       "      <td>None</td>\n",
       "      <td>2018-12-19 12:16:38.363000+00:00</td>\n",
       "      <td>2018-12-19 12:46:51.820000+00:00</td>\n",
       "      <td>NaN</td>\n",
       "      <td>2018-12-19 12:46:51.820000+00:00</td>\n",
       "      <td>2018-12-19 12:29:47.677000+00:00</td>\n",
       "      <td>NaT</td>\n",
       "      <td></td>\n",
       "      <td>6064931.0</td>\n",
       "      <td>6064931.0</td>\n",
       "      <td>1.0</td>\n",
       "      <td>0.0</td>\n",
       "      <td>0</td>\n",
       "      <td>wpf|image|xaml|datagrid|rowdetailstemplate</td>\n",
       "      <td></td>\n",
       "      <td>14.0</td>\n",
       "    </tr>\n",
       "    <tr>\n",
       "      <th>1</th>\n",
       "      <td>54147660.0</td>\n",
       "      <td>54148525</td>\n",
       "      <td>Why AddMvc expects Action&lt;MvcOptions&gt; instead ...</td>\n",
       "      <td>&lt;p&gt;I'm learning ASP.NET Core and I see that re...</td>\n",
       "      <td>&lt;p&gt;If you look at the &lt;a href=\"https://github....</td>\n",
       "      <td>NaN</td>\n",
       "      <td>1.0</td>\n",
       "      <td>4.0</td>\n",
       "      <td>0</td>\n",
       "      <td>None</td>\n",
       "      <td>2019-01-11 13:38:31.230000+00:00</td>\n",
       "      <td>2019-01-11 14:30:18.260000+00:00</td>\n",
       "      <td>2.0</td>\n",
       "      <td>2019-02-23 17:23:59.930000+00:00</td>\n",
       "      <td>2019-01-11 13:49:36.767000+00:00</td>\n",
       "      <td>2019-01-15 11:51:59.800000+00:00</td>\n",
       "      <td></td>\n",
       "      <td>243245.0</td>\n",
       "      <td>5021151.0</td>\n",
       "      <td>1.0</td>\n",
       "      <td>3.0</td>\n",
       "      <td>9</td>\n",
       "      <td>c#|asp.net-core</td>\n",
       "      <td></td>\n",
       "      <td>204.0</td>\n",
       "    </tr>\n",
       "    <tr>\n",
       "      <th>2</th>\n",
       "      <td>53654178.0</td>\n",
       "      <td>53654241</td>\n",
       "      <td>Python Square Root for Class Instances</td>\n",
       "      <td>&lt;p&gt;I am currently implementing a class that ca...</td>\n",
       "      <td>&lt;p&gt;There's no trivial/out-of-the-box way to wi...</td>\n",
       "      <td>53654368.0</td>\n",
       "      <td>3.0</td>\n",
       "      <td>10.0</td>\n",
       "      <td>1</td>\n",
       "      <td>None</td>\n",
       "      <td>2018-12-06 15:00:25.170000+00:00</td>\n",
       "      <td>2018-12-06 15:04:03.873000+00:00</td>\n",
       "      <td>NaN</td>\n",
       "      <td>2018-12-06 15:24:54.890000+00:00</td>\n",
       "      <td>NaT</td>\n",
       "      <td>2018-12-06 15:13:57.113000+00:00</td>\n",
       "      <td></td>\n",
       "      <td>NaN</td>\n",
       "      <td>9607187.0</td>\n",
       "      <td>1.0</td>\n",
       "      <td>2.0</td>\n",
       "      <td>2</td>\n",
       "      <td>python|magic-methods</td>\n",
       "      <td></td>\n",
       "      <td>86.0</td>\n",
       "    </tr>\n",
       "    <tr>\n",
       "      <th>3</th>\n",
       "      <td>54273358.0</td>\n",
       "      <td>54281226</td>\n",
       "      <td>Converting first string letter to capital and ...</td>\n",
       "      <td>&lt;p&gt;I started learning XSLT, kind of got stuck ...</td>\n",
       "      <td>&lt;p&gt;Could you have more than two delimiters in ...</td>\n",
       "      <td>NaN</td>\n",
       "      <td>2.0</td>\n",
       "      <td>3.0</td>\n",
       "      <td>5</td>\n",
       "      <td>None</td>\n",
       "      <td>2019-01-20 03:31:19.363000+00:00</td>\n",
       "      <td>2019-01-20 21:36:36.743000+00:00</td>\n",
       "      <td>NaN</td>\n",
       "      <td>2019-01-21 12:02:37.947000+00:00</td>\n",
       "      <td>2019-01-20 05:34:40.107000+00:00</td>\n",
       "      <td>2019-01-21 12:02:37.947000+00:00</td>\n",
       "      <td></td>\n",
       "      <td>3016153.0</td>\n",
       "      <td>7945862.0</td>\n",
       "      <td>1.0</td>\n",
       "      <td>0.0</td>\n",
       "      <td>0</td>\n",
       "      <td>xslt|xslt-1.0</td>\n",
       "      <td></td>\n",
       "      <td>110.0</td>\n",
       "    </tr>\n",
       "    <tr>\n",
       "      <th>4</th>\n",
       "      <td>54421796.0</td>\n",
       "      <td>54421921</td>\n",
       "      <td>Is using malloc within scanf compliant to c an...</td>\n",
       "      <td>&lt;p&gt;I want to read the input of a user and save...</td>\n",
       "      <td>&lt;p&gt;This will &lt;strong&gt;not&lt;/strong&gt; work as you ...</td>\n",
       "      <td>54421921.0</td>\n",
       "      <td>3.0</td>\n",
       "      <td>14.0</td>\n",
       "      <td>0</td>\n",
       "      <td>None</td>\n",
       "      <td>2019-01-29 13:07:04.503000+00:00</td>\n",
       "      <td>2019-01-29 13:13:47.640000+00:00</td>\n",
       "      <td>NaN</td>\n",
       "      <td>2019-02-13 19:01:16.710000+00:00</td>\n",
       "      <td>2019-02-13 19:01:16.710000+00:00</td>\n",
       "      <td>2019-01-29 13:38:18.857000+00:00</td>\n",
       "      <td></td>\n",
       "      <td>1687119.0</td>\n",
       "      <td>5732150.0</td>\n",
       "      <td>1.0</td>\n",
       "      <td>3.0</td>\n",
       "      <td>8</td>\n",
       "      <td>c|c89</td>\n",
       "      <td></td>\n",
       "      <td>104.0</td>\n",
       "    </tr>\n",
       "  </tbody>\n",
       "</table>\n",
       "</div>"
      ],
      "text/plain": [
       "   question_id  answer_id  ... ans_tags que_view_count\n",
       "0   53851100.0   53851593  ...                    14.0\n",
       "1   54147660.0   54148525  ...                   204.0\n",
       "2   53654178.0   53654241  ...                    86.0\n",
       "3   54273358.0   54281226  ...                   110.0\n",
       "4   54421796.0   54421921  ...                   104.0\n",
       "\n",
       "[5 rows x 25 columns]"
      ]
     },
     "execution_count": 7,
     "metadata": {
      "tags": []
     },
     "output_type": "execute_result"
    }
   ],
   "source": [
    "df=pd.read_csv(\"dataset.csv\")"
   ]
  },
  {
   "cell_type": "markdown",
   "metadata": {
    "colab_type": "text",
    "id": "kMb84eR6OGkx"
   },
   "source": [
    "# Import the required libraries"
   ]
  },
  {
   "cell_type": "code",
   "execution_count": 0,
   "metadata": {
    "colab": {},
    "colab_type": "code",
    "id": "O7Xe6xAoy_Ig"
   },
   "outputs": [],
   "source": [
    "import pandas as pd\n",
    "from sklearn.preprocessing import LabelEncoder\n",
    "from bs4 import BeautifulSoup\n",
    "import re\n",
    "import nltk\n",
    "from nltk.corpus import stopwords\n",
    "from nltk.stem import LancasterStemmer, WordNetLemmatizer\n",
    "from sklearn.feature_extraction.text import TfidfVectorizer\n",
    "from sklearn.model_selection import train_test_split\n",
    "from sklearn.ensemble import RandomForestRegressor, RandomForestClassifier\n",
    "from sklearn.svm import SVR\n",
    "from sklearn.metrics import mean_squared_error, log_loss, roc_curve, auc, roc_auc_score\n",
    "import math\n",
    "from sklearn.linear_model import LogisticRegression\n",
    "import numpy as np\n",
    "import matplotlib.pyplot as plt"
   ]
  },
  {
   "cell_type": "code",
   "execution_count": 9,
   "metadata": {
    "colab": {
     "base_uri": "https://localhost:8080/",
     "height": 34
    },
    "colab_type": "code",
    "id": "pNBL87vXVd2D",
    "outputId": "99ba338f-56a8-43fb-f7bc-eff16539ef2a"
   },
   "outputs": [
    {
     "data": {
      "text/plain": [
       "(615859, 25)"
      ]
     },
     "execution_count": 9,
     "metadata": {
      "tags": []
     },
     "output_type": "execute_result"
    }
   ],
   "source": [
    "df.shape"
   ]
  },
  {
   "cell_type": "code",
   "execution_count": 10,
   "metadata": {
    "colab": {
     "base_uri": "https://localhost:8080/",
     "height": 153
    },
    "colab_type": "code",
    "id": "_wHnKMP_Vffi",
    "outputId": "7712b74f-9088-442d-c669-8f5b49c065a9"
   },
   "outputs": [
    {
     "data": {
      "text/plain": [
       "Index(['question_id', 'answer_id', 'title', 'question_body', 'answer_body',\n",
       "       'accepted_answer_id', 'answer_count', 'que_comment_count',\n",
       "       'ans_comment_count', 'community_owned_date', 'que_creation_date',\n",
       "       'ans_creation_date', 'favorite_count', 'last_activity_date',\n",
       "       'que_last_edit_date', 'ans_last_edit_date', 'last_editor_display_name',\n",
       "       'last_editor_user_id', 'owner_user_id', 'post_type_id', 'que_score',\n",
       "       'ans_score', 'que_tags', 'ans_tags', 'que_view_count'],\n",
       "      dtype='object')"
      ]
     },
     "execution_count": 10,
     "metadata": {
      "tags": []
     },
     "output_type": "execute_result"
    }
   ],
   "source": [
    "df.columns"
   ]
  },
  {
   "cell_type": "markdown",
   "metadata": {
    "colab_type": "text",
    "id": "_9pLAeUcOnBY"
   },
   "source": [
    "Check for the number of NAs in the dataset"
   ]
  },
  {
   "cell_type": "code",
   "execution_count": 11,
   "metadata": {
    "colab": {
     "base_uri": "https://localhost:8080/",
     "height": 476
    },
    "colab_type": "code",
    "id": "tsJVarzoDUSb",
    "outputId": "441771db-dfc9-451a-c407-f94b5edcc7fd"
   },
   "outputs": [
    {
     "name": "stdout",
     "output_type": "stream",
     "text": [
      "4115360\n",
      "question_id                 115511\n",
      "answer_id                        0\n",
      "title                       115511\n",
      "question_body               115511\n",
      "answer_body                      0\n",
      "accepted_answer_id          342972\n",
      "answer_count                115511\n",
      "que_comment_count           115511\n",
      "ans_comment_count                0\n",
      "community_owned_date        615859\n",
      "que_creation_date           115511\n",
      "ans_creation_date                0\n",
      "favorite_count              553171\n",
      "last_activity_date          115511\n",
      "que_last_edit_date          327154\n",
      "ans_last_edit_date          443036\n",
      "last_editor_display_name    115511\n",
      "last_editor_user_id         328330\n",
      "owner_user_id               118706\n",
      "post_type_id                115511\n",
      "que_score                   115511\n",
      "ans_score                        0\n",
      "que_tags                    115511\n",
      "ans_tags                         0\n",
      "que_view_count              115511\n",
      "dtype: int64\n"
     ]
    }
   ],
   "source": [
    "print(df.isnull().sum().sum())\n",
    "print(df.isnull().sum())"
   ]
  },
  {
   "cell_type": "markdown",
   "metadata": {
    "colab_type": "text",
    "id": "MrmGfkAQOuUw"
   },
   "source": [
    "Drop the entries havin NA in  columns: 'que_creation_date',\t'ans_creation_date', 'que_tags', 'question_id',\t'answer_id', 'accepted_answer_id'"
   ]
  },
  {
   "cell_type": "code",
   "execution_count": 12,
   "metadata": {
    "colab": {
     "base_uri": "https://localhost:8080/",
     "height": 68
    },
    "colab_type": "code",
    "id": "8hKz4vNhCTBa",
    "outputId": "1e1fc491-74fb-4caf-caec-9c2f8c53f0ab"
   },
   "outputs": [
    {
     "name": "stdout",
     "output_type": "stream",
     "text": [
      "(615859, 25)\n",
      "(272887, 25)\n",
      "919721\n"
     ]
    }
   ],
   "source": [
    "print(df.shape)\n",
    "df=df.dropna(axis=0,subset=['que_creation_date',\t'ans_creation_date', 'que_tags', 'question_id',\t'answer_id', 'accepted_answer_id'])\n",
    "print(df.shape)\n",
    "print(df.isnull().sum().sum())"
   ]
  },
  {
   "cell_type": "markdown",
   "metadata": {
    "colab_type": "text",
    "id": "163bm5NGPDJ8"
   },
   "source": [
    "Create a new column denoting the date difference between the questioncreation date and answer creation date"
   ]
  },
  {
   "cell_type": "code",
   "execution_count": 13,
   "metadata": {
    "colab": {
     "base_uri": "https://localhost:8080/",
     "height": 581
    },
    "colab_type": "code",
    "id": "LUQb5TVWTUoP",
    "outputId": "0cb463dd-9981-4d52-8573-0b2efa274b32"
   },
   "outputs": [
    {
     "name": "stdout",
     "output_type": "stream",
     "text": [
      "(181832, 26)\n"
     ]
    },
    {
     "data": {
      "text/html": [
       "<div>\n",
       "<style scoped>\n",
       "    .dataframe tbody tr th:only-of-type {\n",
       "        vertical-align: middle;\n",
       "    }\n",
       "\n",
       "    .dataframe tbody tr th {\n",
       "        vertical-align: top;\n",
       "    }\n",
       "\n",
       "    .dataframe thead th {\n",
       "        text-align: right;\n",
       "    }\n",
       "</style>\n",
       "<table border=\"1\" class=\"dataframe\">\n",
       "  <thead>\n",
       "    <tr style=\"text-align: right;\">\n",
       "      <th></th>\n",
       "      <th>question_id</th>\n",
       "      <th>answer_id</th>\n",
       "      <th>title</th>\n",
       "      <th>question_body</th>\n",
       "      <th>answer_body</th>\n",
       "      <th>accepted_answer_id</th>\n",
       "      <th>answer_count</th>\n",
       "      <th>que_comment_count</th>\n",
       "      <th>ans_comment_count</th>\n",
       "      <th>community_owned_date</th>\n",
       "      <th>que_creation_date</th>\n",
       "      <th>ans_creation_date</th>\n",
       "      <th>favorite_count</th>\n",
       "      <th>last_activity_date</th>\n",
       "      <th>que_last_edit_date</th>\n",
       "      <th>ans_last_edit_date</th>\n",
       "      <th>last_editor_display_name</th>\n",
       "      <th>last_editor_user_id</th>\n",
       "      <th>owner_user_id</th>\n",
       "      <th>post_type_id</th>\n",
       "      <th>que_score</th>\n",
       "      <th>ans_score</th>\n",
       "      <th>que_tags</th>\n",
       "      <th>ans_tags</th>\n",
       "      <th>que_view_count</th>\n",
       "      <th>answer_probability</th>\n",
       "    </tr>\n",
       "  </thead>\n",
       "  <tbody>\n",
       "    <tr>\n",
       "      <th>4</th>\n",
       "      <td>54421796.0</td>\n",
       "      <td>54421921</td>\n",
       "      <td>Is using malloc within scanf compliant to c an...</td>\n",
       "      <td>&lt;p&gt;I want to read the input of a user and save...</td>\n",
       "      <td>&lt;p&gt;This will &lt;strong&gt;not&lt;/strong&gt; work as you ...</td>\n",
       "      <td>54421921.0</td>\n",
       "      <td>3.0</td>\n",
       "      <td>14.0</td>\n",
       "      <td>0</td>\n",
       "      <td>None</td>\n",
       "      <td>2019-01-29 13:07:04.503000+00:00</td>\n",
       "      <td>2019-01-29 13:13:47.640000+00:00</td>\n",
       "      <td>NaN</td>\n",
       "      <td>2019-02-13 19:01:16.710000+00:00</td>\n",
       "      <td>2019-02-13 19:01:16.710000+00:00</td>\n",
       "      <td>2019-01-29 13:38:18.857000+00:00</td>\n",
       "      <td></td>\n",
       "      <td>1687119.0</td>\n",
       "      <td>5732150.0</td>\n",
       "      <td>1.0</td>\n",
       "      <td>3.0</td>\n",
       "      <td>8</td>\n",
       "      <td>c|c89</td>\n",
       "      <td></td>\n",
       "      <td>104.0</td>\n",
       "      <td>0</td>\n",
       "    </tr>\n",
       "    <tr>\n",
       "      <th>9</th>\n",
       "      <td>54817100.0</td>\n",
       "      <td>54935716</td>\n",
       "      <td>SSL with Puma, HTTP parse error, malformed req...</td>\n",
       "      <td>&lt;p&gt;Attempting to configure Puma with HTTPS for...</td>\n",
       "      <td>&lt;p&gt;&lt;strong&gt;Here is the solution that finally w...</td>\n",
       "      <td>54935716.0</td>\n",
       "      <td>2.0</td>\n",
       "      <td>13.0</td>\n",
       "      <td>0</td>\n",
       "      <td>None</td>\n",
       "      <td>2019-02-21 22:18:15.387000+00:00</td>\n",
       "      <td>2019-02-28 23:11:45.487000+00:00</td>\n",
       "      <td>NaN</td>\n",
       "      <td>2019-02-28 23:11:45.487000+00:00</td>\n",
       "      <td>2019-02-28 22:32:13.993000+00:00</td>\n",
       "      <td>NaT</td>\n",
       "      <td></td>\n",
       "      <td>4044009.0</td>\n",
       "      <td>4044009.0</td>\n",
       "      <td>1.0</td>\n",
       "      <td>0.0</td>\n",
       "      <td>0</td>\n",
       "      <td>ruby-on-rails|ruby|puma</td>\n",
       "      <td></td>\n",
       "      <td>118.0</td>\n",
       "      <td>7</td>\n",
       "    </tr>\n",
       "    <tr>\n",
       "      <th>15</th>\n",
       "      <td>54024503.0</td>\n",
       "      <td>54024619</td>\n",
       "      <td>Bootstrap collapsed navbar toggle not working</td>\n",
       "      <td>&lt;p&gt;The toggle button appears when window is re...</td>\n",
       "      <td>&lt;p&gt;You have added &lt;code&gt;navbar-collapse&lt;/code&gt;...</td>\n",
       "      <td>54024619.0</td>\n",
       "      <td>1.0</td>\n",
       "      <td>3.0</td>\n",
       "      <td>0</td>\n",
       "      <td>None</td>\n",
       "      <td>2019-01-03 14:42:41.683000+00:00</td>\n",
       "      <td>2019-01-03 14:48:54.127000+00:00</td>\n",
       "      <td>NaN</td>\n",
       "      <td>2019-01-03 16:05:22.637000+00:00</td>\n",
       "      <td>2019-01-03 16:05:22.637000+00:00</td>\n",
       "      <td>2019-01-03 14:59:53.703000+00:00</td>\n",
       "      <td></td>\n",
       "      <td>462627.0</td>\n",
       "      <td>10863160.0</td>\n",
       "      <td>1.0</td>\n",
       "      <td>2.0</td>\n",
       "      <td>0</td>\n",
       "      <td>jquery|html|css|twitter-bootstrap|twitter-boot...</td>\n",
       "      <td></td>\n",
       "      <td>98.0</td>\n",
       "      <td>0</td>\n",
       "    </tr>\n",
       "    <tr>\n",
       "      <th>28</th>\n",
       "      <td>54778520.0</td>\n",
       "      <td>54778827</td>\n",
       "      <td>Mongo-Go-Driver Failing to Connect</td>\n",
       "      <td>&lt;p&gt;So I am trying to use &lt;a href=\"https://gith...</td>\n",
       "      <td>&lt;p&gt;To those who come searching - the docs are ...</td>\n",
       "      <td>54778827.0</td>\n",
       "      <td>1.0</td>\n",
       "      <td>0.0</td>\n",
       "      <td>2</td>\n",
       "      <td>None</td>\n",
       "      <td>2019-02-20 03:47:18.923000+00:00</td>\n",
       "      <td>2019-02-20 04:24:47.647000+00:00</td>\n",
       "      <td>NaN</td>\n",
       "      <td>2019-02-20 04:24:47.647000+00:00</td>\n",
       "      <td>NaT</td>\n",
       "      <td>NaT</td>\n",
       "      <td></td>\n",
       "      <td>NaN</td>\n",
       "      <td>7268968.0</td>\n",
       "      <td>1.0</td>\n",
       "      <td>0.0</td>\n",
       "      <td>1</td>\n",
       "      <td>database|mongodb|go|database-connection|mongo-go</td>\n",
       "      <td></td>\n",
       "      <td>155.0</td>\n",
       "      <td>0</td>\n",
       "    </tr>\n",
       "    <tr>\n",
       "      <th>34</th>\n",
       "      <td>54231923.0</td>\n",
       "      <td>54233279</td>\n",
       "      <td>How to get selected item in RadioGroup in Reac...</td>\n",
       "      <td>&lt;p&gt;How can i get selected value from RadioGrou...</td>\n",
       "      <td>&lt;p&gt;Install the &lt;a href=\"https://www.npmjs.com/...</td>\n",
       "      <td>54233279.0</td>\n",
       "      <td>2.0</td>\n",
       "      <td>4.0</td>\n",
       "      <td>0</td>\n",
       "      <td>None</td>\n",
       "      <td>2019-01-17 08:39:44.720000+00:00</td>\n",
       "      <td>2019-01-17 09:57:49.383000+00:00</td>\n",
       "      <td>NaN</td>\n",
       "      <td>2019-01-17 09:57:49.383000+00:00</td>\n",
       "      <td>NaT</td>\n",
       "      <td>NaT</td>\n",
       "      <td></td>\n",
       "      <td>NaN</td>\n",
       "      <td>5821228.0</td>\n",
       "      <td>1.0</td>\n",
       "      <td>0.0</td>\n",
       "      <td>1</td>\n",
       "      <td>react-native</td>\n",
       "      <td></td>\n",
       "      <td>80.0</td>\n",
       "      <td>0</td>\n",
       "    </tr>\n",
       "  </tbody>\n",
       "</table>\n",
       "</div>"
      ],
      "text/plain": [
       "    question_id  answer_id  ... que_view_count answer_probability\n",
       "4    54421796.0   54421921  ...          104.0                  0\n",
       "9    54817100.0   54935716  ...          118.0                  7\n",
       "15   54024503.0   54024619  ...           98.0                  0\n",
       "28   54778520.0   54778827  ...          155.0                  0\n",
       "34   54231923.0   54233279  ...           80.0                  0\n",
       "\n",
       "[5 rows x 26 columns]"
      ]
     },
     "execution_count": 13,
     "metadata": {
      "tags": []
     },
     "output_type": "execute_result"
    }
   ],
   "source": [
    "df1=df.loc[df.answer_id==df.accepted_answer_id,:].copy()\n",
    "df1['answer_probability']=(df1.ans_creation_date - df1.que_creation_date).dt.days\n",
    "print(df1.shape)\n",
    "df1.head()"
   ]
  },
  {
   "cell_type": "markdown",
   "metadata": {
    "colab_type": "text",
    "id": "GDqzp3CwPSaW"
   },
   "source": [
    "If the date difference is less than 8 then probability is 1 else 0"
   ]
  },
  {
   "cell_type": "code",
   "execution_count": 14,
   "metadata": {
    "colab": {
     "base_uri": "https://localhost:8080/",
     "height": 564
    },
    "colab_type": "code",
    "id": "xQOqdA34TvaC",
    "outputId": "8727ebee-e227-433d-8d8c-57d505634919"
   },
   "outputs": [
    {
     "data": {
      "text/html": [
       "<div>\n",
       "<style scoped>\n",
       "    .dataframe tbody tr th:only-of-type {\n",
       "        vertical-align: middle;\n",
       "    }\n",
       "\n",
       "    .dataframe tbody tr th {\n",
       "        vertical-align: top;\n",
       "    }\n",
       "\n",
       "    .dataframe thead th {\n",
       "        text-align: right;\n",
       "    }\n",
       "</style>\n",
       "<table border=\"1\" class=\"dataframe\">\n",
       "  <thead>\n",
       "    <tr style=\"text-align: right;\">\n",
       "      <th></th>\n",
       "      <th>question_id</th>\n",
       "      <th>answer_id</th>\n",
       "      <th>title</th>\n",
       "      <th>question_body</th>\n",
       "      <th>answer_body</th>\n",
       "      <th>accepted_answer_id</th>\n",
       "      <th>answer_count</th>\n",
       "      <th>que_comment_count</th>\n",
       "      <th>ans_comment_count</th>\n",
       "      <th>community_owned_date</th>\n",
       "      <th>que_creation_date</th>\n",
       "      <th>ans_creation_date</th>\n",
       "      <th>favorite_count</th>\n",
       "      <th>last_activity_date</th>\n",
       "      <th>que_last_edit_date</th>\n",
       "      <th>ans_last_edit_date</th>\n",
       "      <th>last_editor_display_name</th>\n",
       "      <th>last_editor_user_id</th>\n",
       "      <th>owner_user_id</th>\n",
       "      <th>post_type_id</th>\n",
       "      <th>que_score</th>\n",
       "      <th>ans_score</th>\n",
       "      <th>que_tags</th>\n",
       "      <th>ans_tags</th>\n",
       "      <th>que_view_count</th>\n",
       "      <th>answer_probability</th>\n",
       "    </tr>\n",
       "  </thead>\n",
       "  <tbody>\n",
       "    <tr>\n",
       "      <th>4</th>\n",
       "      <td>54421796.0</td>\n",
       "      <td>54421921</td>\n",
       "      <td>Is using malloc within scanf compliant to c an...</td>\n",
       "      <td>&lt;p&gt;I want to read the input of a user and save...</td>\n",
       "      <td>&lt;p&gt;This will &lt;strong&gt;not&lt;/strong&gt; work as you ...</td>\n",
       "      <td>54421921.0</td>\n",
       "      <td>3.0</td>\n",
       "      <td>14.0</td>\n",
       "      <td>0</td>\n",
       "      <td>None</td>\n",
       "      <td>2019-01-29 13:07:04.503000+00:00</td>\n",
       "      <td>2019-01-29 13:13:47.640000+00:00</td>\n",
       "      <td>NaN</td>\n",
       "      <td>2019-02-13 19:01:16.710000+00:00</td>\n",
       "      <td>2019-02-13 19:01:16.710000+00:00</td>\n",
       "      <td>2019-01-29 13:38:18.857000+00:00</td>\n",
       "      <td></td>\n",
       "      <td>1687119.0</td>\n",
       "      <td>5732150.0</td>\n",
       "      <td>1.0</td>\n",
       "      <td>3.0</td>\n",
       "      <td>8</td>\n",
       "      <td>c|c89</td>\n",
       "      <td></td>\n",
       "      <td>104.0</td>\n",
       "      <td>1</td>\n",
       "    </tr>\n",
       "    <tr>\n",
       "      <th>9</th>\n",
       "      <td>54817100.0</td>\n",
       "      <td>54935716</td>\n",
       "      <td>SSL with Puma, HTTP parse error, malformed req...</td>\n",
       "      <td>&lt;p&gt;Attempting to configure Puma with HTTPS for...</td>\n",
       "      <td>&lt;p&gt;&lt;strong&gt;Here is the solution that finally w...</td>\n",
       "      <td>54935716.0</td>\n",
       "      <td>2.0</td>\n",
       "      <td>13.0</td>\n",
       "      <td>0</td>\n",
       "      <td>None</td>\n",
       "      <td>2019-02-21 22:18:15.387000+00:00</td>\n",
       "      <td>2019-02-28 23:11:45.487000+00:00</td>\n",
       "      <td>NaN</td>\n",
       "      <td>2019-02-28 23:11:45.487000+00:00</td>\n",
       "      <td>2019-02-28 22:32:13.993000+00:00</td>\n",
       "      <td>NaT</td>\n",
       "      <td></td>\n",
       "      <td>4044009.0</td>\n",
       "      <td>4044009.0</td>\n",
       "      <td>1.0</td>\n",
       "      <td>0.0</td>\n",
       "      <td>0</td>\n",
       "      <td>ruby-on-rails|ruby|puma</td>\n",
       "      <td></td>\n",
       "      <td>118.0</td>\n",
       "      <td>1</td>\n",
       "    </tr>\n",
       "    <tr>\n",
       "      <th>15</th>\n",
       "      <td>54024503.0</td>\n",
       "      <td>54024619</td>\n",
       "      <td>Bootstrap collapsed navbar toggle not working</td>\n",
       "      <td>&lt;p&gt;The toggle button appears when window is re...</td>\n",
       "      <td>&lt;p&gt;You have added &lt;code&gt;navbar-collapse&lt;/code&gt;...</td>\n",
       "      <td>54024619.0</td>\n",
       "      <td>1.0</td>\n",
       "      <td>3.0</td>\n",
       "      <td>0</td>\n",
       "      <td>None</td>\n",
       "      <td>2019-01-03 14:42:41.683000+00:00</td>\n",
       "      <td>2019-01-03 14:48:54.127000+00:00</td>\n",
       "      <td>NaN</td>\n",
       "      <td>2019-01-03 16:05:22.637000+00:00</td>\n",
       "      <td>2019-01-03 16:05:22.637000+00:00</td>\n",
       "      <td>2019-01-03 14:59:53.703000+00:00</td>\n",
       "      <td></td>\n",
       "      <td>462627.0</td>\n",
       "      <td>10863160.0</td>\n",
       "      <td>1.0</td>\n",
       "      <td>2.0</td>\n",
       "      <td>0</td>\n",
       "      <td>jquery|html|css|twitter-bootstrap|twitter-boot...</td>\n",
       "      <td></td>\n",
       "      <td>98.0</td>\n",
       "      <td>1</td>\n",
       "    </tr>\n",
       "    <tr>\n",
       "      <th>28</th>\n",
       "      <td>54778520.0</td>\n",
       "      <td>54778827</td>\n",
       "      <td>Mongo-Go-Driver Failing to Connect</td>\n",
       "      <td>&lt;p&gt;So I am trying to use &lt;a href=\"https://gith...</td>\n",
       "      <td>&lt;p&gt;To those who come searching - the docs are ...</td>\n",
       "      <td>54778827.0</td>\n",
       "      <td>1.0</td>\n",
       "      <td>0.0</td>\n",
       "      <td>2</td>\n",
       "      <td>None</td>\n",
       "      <td>2019-02-20 03:47:18.923000+00:00</td>\n",
       "      <td>2019-02-20 04:24:47.647000+00:00</td>\n",
       "      <td>NaN</td>\n",
       "      <td>2019-02-20 04:24:47.647000+00:00</td>\n",
       "      <td>NaT</td>\n",
       "      <td>NaT</td>\n",
       "      <td></td>\n",
       "      <td>NaN</td>\n",
       "      <td>7268968.0</td>\n",
       "      <td>1.0</td>\n",
       "      <td>0.0</td>\n",
       "      <td>1</td>\n",
       "      <td>database|mongodb|go|database-connection|mongo-go</td>\n",
       "      <td></td>\n",
       "      <td>155.0</td>\n",
       "      <td>1</td>\n",
       "    </tr>\n",
       "    <tr>\n",
       "      <th>34</th>\n",
       "      <td>54231923.0</td>\n",
       "      <td>54233279</td>\n",
       "      <td>How to get selected item in RadioGroup in Reac...</td>\n",
       "      <td>&lt;p&gt;How can i get selected value from RadioGrou...</td>\n",
       "      <td>&lt;p&gt;Install the &lt;a href=\"https://www.npmjs.com/...</td>\n",
       "      <td>54233279.0</td>\n",
       "      <td>2.0</td>\n",
       "      <td>4.0</td>\n",
       "      <td>0</td>\n",
       "      <td>None</td>\n",
       "      <td>2019-01-17 08:39:44.720000+00:00</td>\n",
       "      <td>2019-01-17 09:57:49.383000+00:00</td>\n",
       "      <td>NaN</td>\n",
       "      <td>2019-01-17 09:57:49.383000+00:00</td>\n",
       "      <td>NaT</td>\n",
       "      <td>NaT</td>\n",
       "      <td></td>\n",
       "      <td>NaN</td>\n",
       "      <td>5821228.0</td>\n",
       "      <td>1.0</td>\n",
       "      <td>0.0</td>\n",
       "      <td>1</td>\n",
       "      <td>react-native</td>\n",
       "      <td></td>\n",
       "      <td>80.0</td>\n",
       "      <td>1</td>\n",
       "    </tr>\n",
       "  </tbody>\n",
       "</table>\n",
       "</div>"
      ],
      "text/plain": [
       "    question_id  answer_id  ... que_view_count answer_probability\n",
       "4    54421796.0   54421921  ...          104.0                  1\n",
       "9    54817100.0   54935716  ...          118.0                  1\n",
       "15   54024503.0   54024619  ...           98.0                  1\n",
       "28   54778520.0   54778827  ...          155.0                  1\n",
       "34   54231923.0   54233279  ...           80.0                  1\n",
       "\n",
       "[5 rows x 26 columns]"
      ]
     },
     "execution_count": 14,
     "metadata": {
      "tags": []
     },
     "output_type": "execute_result"
    }
   ],
   "source": [
    "for row in range(len(df1)):\n",
    "  if df1.iloc[row,25]<=7:\n",
    "    df1.iloc[row,25]=1\n",
    "  else:\n",
    "    df1.iloc[row,25]=0\n",
    "df1.head()"
   ]
  },
  {
   "cell_type": "markdown",
   "metadata": {
    "colab_type": "text",
    "id": "JbQbJxP4Pcsm"
   },
   "source": [
    "Create a dataset with equal number of instances of both the classes"
   ]
  },
  {
   "cell_type": "code",
   "execution_count": 15,
   "metadata": {
    "colab": {
     "base_uri": "https://localhost:8080/",
     "height": 34
    },
    "colab_type": "code",
    "id": "Y4zQkv1pTvaG",
    "outputId": "469e2d8e-7c95-4345-e9c0-d9760e5604b5"
   },
   "outputs": [
    {
     "name": "stdout",
     "output_type": "stream",
     "text": [
      "(177174, 26) (4658, 26)\n"
     ]
    }
   ],
   "source": [
    "dataset1=df1[df1.answer_probability==1].copy()\n",
    "dataset2=df1[df1.answer_probability==0].copy()\n",
    "print(dataset1.shape, dataset2.shape)"
   ]
  },
  {
   "cell_type": "code",
   "execution_count": 16,
   "metadata": {
    "colab": {
     "base_uri": "https://localhost:8080/",
     "height": 34
    },
    "colab_type": "code",
    "id": "XTMHmIGwTvaL",
    "outputId": "d56e4b5c-3af8-44c9-c336-71231dca8e46"
   },
   "outputs": [
    {
     "data": {
      "text/plain": [
       "(4658, 26)"
      ]
     },
     "execution_count": 16,
     "metadata": {
      "tags": []
     },
     "output_type": "execute_result"
    }
   ],
   "source": [
    "dataset1=dataset1.sample(n=dataset2.shape[0], random_state=23).copy()\n",
    "dataset1.shape"
   ]
  },
  {
   "cell_type": "code",
   "execution_count": 17,
   "metadata": {
    "colab": {
     "base_uri": "https://localhost:8080/",
     "height": 34
    },
    "colab_type": "code",
    "id": "htNqpMfLTvaO",
    "outputId": "b705e588-5729-44d2-c1a6-d2cc9c899029"
   },
   "outputs": [
    {
     "data": {
      "text/plain": [
       "(9316, 26)"
      ]
     },
     "execution_count": 17,
     "metadata": {
      "tags": []
     },
     "output_type": "execute_result"
    }
   ],
   "source": [
    "df1=dataset1.append(dataset2)\n",
    "df1.shape"
   ]
  },
  {
   "cell_type": "code",
   "execution_count": 18,
   "metadata": {
    "colab": {
     "base_uri": "https://localhost:8080/",
     "height": 34
    },
    "colab_type": "code",
    "id": "4MB_K5rq8t2U",
    "outputId": "a026c476-167d-4461-d65d-4f569159b30b"
   },
   "outputs": [
    {
     "data": {
      "text/plain": [
       "(9316, 26)"
      ]
     },
     "execution_count": 18,
     "metadata": {
      "tags": []
     },
     "output_type": "execute_result"
    }
   ],
   "source": [
    "df1.shape"
   ]
  },
  {
   "cell_type": "code",
   "execution_count": 19,
   "metadata": {
    "colab": {
     "base_uri": "https://localhost:8080/",
     "height": 476
    },
    "colab_type": "code",
    "id": "v2HS3XLX-K3M",
    "outputId": "9e4e7ebb-6f5d-4f13-d942-59f9cb0c6002"
   },
   "outputs": [
    {
     "data": {
      "text/plain": [
       "question_id                             float64\n",
       "answer_id                                 int64\n",
       "title                                    object\n",
       "question_body                            object\n",
       "answer_body                              object\n",
       "accepted_answer_id                      float64\n",
       "answer_count                            float64\n",
       "que_comment_count                       float64\n",
       "ans_comment_count                         int64\n",
       "community_owned_date                     object\n",
       "que_creation_date           datetime64[ns, UTC]\n",
       "ans_creation_date           datetime64[ns, UTC]\n",
       "favorite_count                          float64\n",
       "last_activity_date          datetime64[ns, UTC]\n",
       "que_last_edit_date          datetime64[ns, UTC]\n",
       "ans_last_edit_date          datetime64[ns, UTC]\n",
       "last_editor_display_name                 object\n",
       "last_editor_user_id                     float64\n",
       "owner_user_id                           float64\n",
       "post_type_id                            float64\n",
       "que_score                               float64\n",
       "ans_score                                 int64\n",
       "que_tags                                 object\n",
       "ans_tags                                 object\n",
       "que_view_count                          float64\n",
       "answer_probability                        int64\n",
       "dtype: object"
      ]
     },
     "execution_count": 19,
     "metadata": {
      "tags": []
     },
     "output_type": "execute_result"
    }
   ],
   "source": [
    "df1.dtypes"
   ]
  },
  {
   "cell_type": "code",
   "execution_count": 0,
   "metadata": {
    "colab": {},
    "colab_type": "code",
    "id": "KwI-ImVKsiPP"
   },
   "outputs": [],
   "source": [
    "df1=df1.reset_index(drop=True)"
   ]
  },
  {
   "cell_type": "markdown",
   "metadata": {
    "colab_type": "text",
    "id": "GIl74J4NPnnx"
   },
   "source": [
    "Get all the unique que tags"
   ]
  },
  {
   "cell_type": "code",
   "execution_count": 21,
   "metadata": {
    "colab": {
     "base_uri": "https://localhost:8080/",
     "height": 34
    },
    "colab_type": "code",
    "id": "sGFjKkaerfS7",
    "outputId": "02f50af2-c4b1-4558-809b-a21ec673df7f"
   },
   "outputs": [
    {
     "name": "stdout",
     "output_type": "stream",
     "text": [
      "6250\n"
     ]
    }
   ],
   "source": [
    "d=set()\n",
    "for row in range(len(df1)):\n",
    "  if df1.loc[row,'que_tags']!=None:\n",
    "    d=d.union(set(df1.loc[row,'que_tags'].split('|')))\n",
    "que_tags_list=list(d)\n",
    "print(len(d))"
   ]
  },
  {
   "cell_type": "code",
   "execution_count": 0,
   "metadata": {
    "colab": {},
    "colab_type": "code",
    "id": "Zr0bxpre799k"
   },
   "outputs": [],
   "source": [
    "df2=df1.copy()"
   ]
  },
  {
   "cell_type": "markdown",
   "metadata": {
    "colab_type": "text",
    "id": "Daci2rgaPs34"
   },
   "source": [
    "Create the column for the que tags. Such that each column has one tag"
   ]
  },
  {
   "cell_type": "code",
   "execution_count": 23,
   "metadata": {
    "colab": {
     "base_uri": "https://localhost:8080/",
     "height": 547
    },
    "colab_type": "code",
    "id": "_FYKzMFL75XH",
    "outputId": "f69307ee-03ca-4837-f16f-09bba8703edf"
   },
   "outputs": [
    {
     "data": {
      "text/html": [
       "<div>\n",
       "<style scoped>\n",
       "    .dataframe tbody tr th:only-of-type {\n",
       "        vertical-align: middle;\n",
       "    }\n",
       "\n",
       "    .dataframe tbody tr th {\n",
       "        vertical-align: top;\n",
       "    }\n",
       "\n",
       "    .dataframe thead th {\n",
       "        text-align: right;\n",
       "    }\n",
       "</style>\n",
       "<table border=\"1\" class=\"dataframe\">\n",
       "  <thead>\n",
       "    <tr style=\"text-align: right;\">\n",
       "      <th></th>\n",
       "      <th>question_id</th>\n",
       "      <th>answer_id</th>\n",
       "      <th>title</th>\n",
       "      <th>question_body</th>\n",
       "      <th>answer_body</th>\n",
       "      <th>accepted_answer_id</th>\n",
       "      <th>answer_count</th>\n",
       "      <th>que_comment_count</th>\n",
       "      <th>ans_comment_count</th>\n",
       "      <th>community_owned_date</th>\n",
       "      <th>que_creation_date</th>\n",
       "      <th>ans_creation_date</th>\n",
       "      <th>favorite_count</th>\n",
       "      <th>last_activity_date</th>\n",
       "      <th>que_last_edit_date</th>\n",
       "      <th>ans_last_edit_date</th>\n",
       "      <th>last_editor_display_name</th>\n",
       "      <th>last_editor_user_id</th>\n",
       "      <th>owner_user_id</th>\n",
       "      <th>post_type_id</th>\n",
       "      <th>que_score</th>\n",
       "      <th>ans_score</th>\n",
       "      <th>que_tags</th>\n",
       "      <th>ans_tags</th>\n",
       "      <th>que_view_count</th>\n",
       "      <th>answer_probability</th>\n",
       "      <th>0</th>\n",
       "      <th>1</th>\n",
       "      <th>2</th>\n",
       "      <th>3</th>\n",
       "      <th>4</th>\n",
       "    </tr>\n",
       "  </thead>\n",
       "  <tbody>\n",
       "    <tr>\n",
       "      <th>0</th>\n",
       "      <td>54309882.0</td>\n",
       "      <td>54310514</td>\n",
       "      <td>What initializer called in convenience init of...</td>\n",
       "      <td>&lt;p&gt;I often use convenience init in &lt;code&gt;UIVie...</td>\n",
       "      <td>&lt;p&gt;&lt;code&gt;UIViewController.init&lt;/code&gt; calls &lt;c...</td>\n",
       "      <td>54310514.0</td>\n",
       "      <td>3.0</td>\n",
       "      <td>0.0</td>\n",
       "      <td>1</td>\n",
       "      <td>None</td>\n",
       "      <td>2019-01-22 13:56:05.640000+00:00</td>\n",
       "      <td>2019-01-22 14:32:47.990000+00:00</td>\n",
       "      <td>0.0</td>\n",
       "      <td>2019-01-22 14:35:33.357000+00:00</td>\n",
       "      <td>2019-01-22 14:35:33.357000+00:00</td>\n",
       "      <td>NaT</td>\n",
       "      <td></td>\n",
       "      <td>8584103.0</td>\n",
       "      <td>8584103.0</td>\n",
       "      <td>1.0</td>\n",
       "      <td>2.0</td>\n",
       "      <td>3</td>\n",
       "      <td>swift|uiviewcontroller|initializer</td>\n",
       "      <td></td>\n",
       "      <td>58.0</td>\n",
       "      <td>1</td>\n",
       "      <td>swift</td>\n",
       "      <td>uiviewcontroller</td>\n",
       "      <td>initializer</td>\n",
       "      <td>None</td>\n",
       "      <td>None</td>\n",
       "    </tr>\n",
       "    <tr>\n",
       "      <th>1</th>\n",
       "      <td>54461342.0</td>\n",
       "      <td>54461778</td>\n",
       "      <td>Is there any way to undertake rounding with cu...</td>\n",
       "      <td>&lt;p&gt;I'm wondering if there's any way to round u...</td>\n",
       "      <td>&lt;p&gt;You could just offset the numbers before ro...</td>\n",
       "      <td>54461778.0</td>\n",
       "      <td>2.0</td>\n",
       "      <td>2.0</td>\n",
       "      <td>3</td>\n",
       "      <td>None</td>\n",
       "      <td>2019-01-31 13:08:31.177000+00:00</td>\n",
       "      <td>2019-01-31 13:33:46.057000+00:00</td>\n",
       "      <td>NaN</td>\n",
       "      <td>2019-01-31 13:48:36.657000+00:00</td>\n",
       "      <td>2019-01-31 13:31:41.287000+00:00</td>\n",
       "      <td>2019-01-31 13:45:52.590000+00:00</td>\n",
       "      <td></td>\n",
       "      <td>680068.0</td>\n",
       "      <td>10216999.0</td>\n",
       "      <td>1.0</td>\n",
       "      <td>0.0</td>\n",
       "      <td>1</td>\n",
       "      <td>r|datetime|rounding</td>\n",
       "      <td></td>\n",
       "      <td>60.0</td>\n",
       "      <td>1</td>\n",
       "      <td>r</td>\n",
       "      <td>datetime</td>\n",
       "      <td>rounding</td>\n",
       "      <td>None</td>\n",
       "      <td>None</td>\n",
       "    </tr>\n",
       "    <tr>\n",
       "      <th>2</th>\n",
       "      <td>54565705.0</td>\n",
       "      <td>54565857</td>\n",
       "      <td>How to lower cyclomatic complexity of switch w...</td>\n",
       "      <td>&lt;p&gt;I have to check if a value is withing a ran...</td>\n",
       "      <td>&lt;p&gt;You can just use integer division if the nu...</td>\n",
       "      <td>54565857.0</td>\n",
       "      <td>2.0</td>\n",
       "      <td>3.0</td>\n",
       "      <td>0</td>\n",
       "      <td>None</td>\n",
       "      <td>2019-02-07 03:04:00.360000+00:00</td>\n",
       "      <td>2019-02-07 03:27:23.937000+00:00</td>\n",
       "      <td>NaN</td>\n",
       "      <td>2019-02-07 03:31:25.990000+00:00</td>\n",
       "      <td>2019-02-07 03:29:32.697000+00:00</td>\n",
       "      <td>NaT</td>\n",
       "      <td></td>\n",
       "      <td>3741589.0</td>\n",
       "      <td>2224904.0</td>\n",
       "      <td>1.0</td>\n",
       "      <td>0.0</td>\n",
       "      <td>0</td>\n",
       "      <td>php|cyclomatic-complexity</td>\n",
       "      <td></td>\n",
       "      <td>40.0</td>\n",
       "      <td>1</td>\n",
       "      <td>php</td>\n",
       "      <td>cyclomatic-complexity</td>\n",
       "      <td>None</td>\n",
       "      <td>None</td>\n",
       "      <td>None</td>\n",
       "    </tr>\n",
       "    <tr>\n",
       "      <th>3</th>\n",
       "      <td>54405559.0</td>\n",
       "      <td>54406182</td>\n",
       "      <td>AWS Role being assumed not being used for futu...</td>\n",
       "      <td>&lt;p&gt;I am trying to assume a role in a docker co...</td>\n",
       "      <td>&lt;p&gt;Calling &lt;code&gt;assume-role&lt;/code&gt; is not goi...</td>\n",
       "      <td>54406182.0</td>\n",
       "      <td>1.0</td>\n",
       "      <td>0.0</td>\n",
       "      <td>3</td>\n",
       "      <td>None</td>\n",
       "      <td>2019-01-28 15:45:36.587000+00:00</td>\n",
       "      <td>2019-01-28 16:19:11.243000+00:00</td>\n",
       "      <td>NaN</td>\n",
       "      <td>2019-01-28 16:19:11.243000+00:00</td>\n",
       "      <td>2019-01-28 15:52:26.340000+00:00</td>\n",
       "      <td>NaT</td>\n",
       "      <td></td>\n",
       "      <td>4763754.0</td>\n",
       "      <td>4763754.0</td>\n",
       "      <td>1.0</td>\n",
       "      <td>1.0</td>\n",
       "      <td>2</td>\n",
       "      <td>amazon-web-services|aws-cli</td>\n",
       "      <td></td>\n",
       "      <td>25.0</td>\n",
       "      <td>1</td>\n",
       "      <td>amazon-web-services</td>\n",
       "      <td>aws-cli</td>\n",
       "      <td>None</td>\n",
       "      <td>None</td>\n",
       "      <td>None</td>\n",
       "    </tr>\n",
       "    <tr>\n",
       "      <th>4</th>\n",
       "      <td>53926163.0</td>\n",
       "      <td>53927573</td>\n",
       "      <td>generate public and private Keys in Hexadecima...</td>\n",
       "      <td>&lt;p&gt;I want please to generate the public and th...</td>\n",
       "      <td>&lt;p&gt;It doesn't seem like you are actually creat...</td>\n",
       "      <td>53927573.0</td>\n",
       "      <td>1.0</td>\n",
       "      <td>2.0</td>\n",
       "      <td>1</td>\n",
       "      <td>None</td>\n",
       "      <td>2018-12-25 23:05:23.707000+00:00</td>\n",
       "      <td>2018-12-26 04:55:30.143000+00:00</td>\n",
       "      <td>NaN</td>\n",
       "      <td>2018-12-28 19:17:29.337000+00:00</td>\n",
       "      <td>2018-12-28 19:17:29.337000+00:00</td>\n",
       "      <td>2018-12-26 15:19:59.957000+00:00</td>\n",
       "      <td></td>\n",
       "      <td>5759687.0</td>\n",
       "      <td>5759687.0</td>\n",
       "      <td>1.0</td>\n",
       "      <td>0.0</td>\n",
       "      <td>4</td>\n",
       "      <td>java</td>\n",
       "      <td></td>\n",
       "      <td>72.0</td>\n",
       "      <td>1</td>\n",
       "      <td>java</td>\n",
       "      <td>None</td>\n",
       "      <td>None</td>\n",
       "      <td>None</td>\n",
       "      <td>None</td>\n",
       "    </tr>\n",
       "  </tbody>\n",
       "</table>\n",
       "</div>"
      ],
      "text/plain": [
       "   question_id  answer_id  ...     3     4\n",
       "0   54309882.0   54310514  ...  None  None\n",
       "1   54461342.0   54461778  ...  None  None\n",
       "2   54565705.0   54565857  ...  None  None\n",
       "3   54405559.0   54406182  ...  None  None\n",
       "4   53926163.0   53927573  ...  None  None\n",
       "\n",
       "[5 rows x 31 columns]"
      ]
     },
     "execution_count": 23,
     "metadata": {
      "tags": []
     },
     "output_type": "execute_result"
    }
   ],
   "source": [
    "df_que_tags=df1.que_tags.str.split(\"|\",expand=True)\n",
    "df1=df1.join(df_que_tags)\n",
    "df1.head()"
   ]
  },
  {
   "cell_type": "markdown",
   "metadata": {
    "colab_type": "text",
    "id": "UGPPTc6rP3Cy"
   },
   "source": [
    "Replace date column with the date difference"
   ]
  },
  {
   "cell_type": "code",
   "execution_count": 24,
   "metadata": {
    "colab": {
     "base_uri": "https://localhost:8080/",
     "height": 547
    },
    "colab_type": "code",
    "id": "aKWVP047GKhb",
    "outputId": "edeb478c-ec92-4943-97ac-6182732f0572"
   },
   "outputs": [
    {
     "data": {
      "text/html": [
       "<div>\n",
       "<style scoped>\n",
       "    .dataframe tbody tr th:only-of-type {\n",
       "        vertical-align: middle;\n",
       "    }\n",
       "\n",
       "    .dataframe tbody tr th {\n",
       "        vertical-align: top;\n",
       "    }\n",
       "\n",
       "    .dataframe thead th {\n",
       "        text-align: right;\n",
       "    }\n",
       "</style>\n",
       "<table border=\"1\" class=\"dataframe\">\n",
       "  <thead>\n",
       "    <tr style=\"text-align: right;\">\n",
       "      <th></th>\n",
       "      <th>question_id</th>\n",
       "      <th>answer_id</th>\n",
       "      <th>title</th>\n",
       "      <th>question_body</th>\n",
       "      <th>answer_body</th>\n",
       "      <th>accepted_answer_id</th>\n",
       "      <th>answer_count</th>\n",
       "      <th>que_comment_count</th>\n",
       "      <th>ans_comment_count</th>\n",
       "      <th>community_owned_date</th>\n",
       "      <th>que_creation_date</th>\n",
       "      <th>ans_creation_date</th>\n",
       "      <th>favorite_count</th>\n",
       "      <th>last_activity_date</th>\n",
       "      <th>que_last_edit_date</th>\n",
       "      <th>ans_last_edit_date</th>\n",
       "      <th>last_editor_display_name</th>\n",
       "      <th>last_editor_user_id</th>\n",
       "      <th>owner_user_id</th>\n",
       "      <th>post_type_id</th>\n",
       "      <th>que_score</th>\n",
       "      <th>ans_score</th>\n",
       "      <th>que_tags</th>\n",
       "      <th>ans_tags</th>\n",
       "      <th>que_view_count</th>\n",
       "      <th>answer_probability</th>\n",
       "      <th>0</th>\n",
       "      <th>1</th>\n",
       "      <th>2</th>\n",
       "      <th>3</th>\n",
       "      <th>4</th>\n",
       "    </tr>\n",
       "  </thead>\n",
       "  <tbody>\n",
       "    <tr>\n",
       "      <th>0</th>\n",
       "      <td>54309882.0</td>\n",
       "      <td>54310514</td>\n",
       "      <td>What initializer called in convenience init of...</td>\n",
       "      <td>&lt;p&gt;I often use convenience init in &lt;code&gt;UIVie...</td>\n",
       "      <td>&lt;p&gt;&lt;code&gt;UIViewController.init&lt;/code&gt; calls &lt;c...</td>\n",
       "      <td>54310514.0</td>\n",
       "      <td>3.0</td>\n",
       "      <td>0.0</td>\n",
       "      <td>1</td>\n",
       "      <td>None</td>\n",
       "      <td>2019-01-22 13:56:05.640000+00:00</td>\n",
       "      <td>2019-01-22 14:32:47.990000+00:00</td>\n",
       "      <td>0.0</td>\n",
       "      <td>0</td>\n",
       "      <td>0.0</td>\n",
       "      <td>NaN</td>\n",
       "      <td></td>\n",
       "      <td>8584103.0</td>\n",
       "      <td>8584103.0</td>\n",
       "      <td>1.0</td>\n",
       "      <td>2.0</td>\n",
       "      <td>3</td>\n",
       "      <td>swift|uiviewcontroller|initializer</td>\n",
       "      <td></td>\n",
       "      <td>58.0</td>\n",
       "      <td>1</td>\n",
       "      <td>swift</td>\n",
       "      <td>uiviewcontroller</td>\n",
       "      <td>initializer</td>\n",
       "      <td>None</td>\n",
       "      <td>None</td>\n",
       "    </tr>\n",
       "    <tr>\n",
       "      <th>1</th>\n",
       "      <td>54461342.0</td>\n",
       "      <td>54461778</td>\n",
       "      <td>Is there any way to undertake rounding with cu...</td>\n",
       "      <td>&lt;p&gt;I'm wondering if there's any way to round u...</td>\n",
       "      <td>&lt;p&gt;You could just offset the numbers before ro...</td>\n",
       "      <td>54461778.0</td>\n",
       "      <td>2.0</td>\n",
       "      <td>2.0</td>\n",
       "      <td>3</td>\n",
       "      <td>None</td>\n",
       "      <td>2019-01-31 13:08:31.177000+00:00</td>\n",
       "      <td>2019-01-31 13:33:46.057000+00:00</td>\n",
       "      <td>NaN</td>\n",
       "      <td>0</td>\n",
       "      <td>0.0</td>\n",
       "      <td>0.0</td>\n",
       "      <td></td>\n",
       "      <td>680068.0</td>\n",
       "      <td>10216999.0</td>\n",
       "      <td>1.0</td>\n",
       "      <td>0.0</td>\n",
       "      <td>1</td>\n",
       "      <td>r|datetime|rounding</td>\n",
       "      <td></td>\n",
       "      <td>60.0</td>\n",
       "      <td>1</td>\n",
       "      <td>r</td>\n",
       "      <td>datetime</td>\n",
       "      <td>rounding</td>\n",
       "      <td>None</td>\n",
       "      <td>None</td>\n",
       "    </tr>\n",
       "    <tr>\n",
       "      <th>2</th>\n",
       "      <td>54565705.0</td>\n",
       "      <td>54565857</td>\n",
       "      <td>How to lower cyclomatic complexity of switch w...</td>\n",
       "      <td>&lt;p&gt;I have to check if a value is withing a ran...</td>\n",
       "      <td>&lt;p&gt;You can just use integer division if the nu...</td>\n",
       "      <td>54565857.0</td>\n",
       "      <td>2.0</td>\n",
       "      <td>3.0</td>\n",
       "      <td>0</td>\n",
       "      <td>None</td>\n",
       "      <td>2019-02-07 03:04:00.360000+00:00</td>\n",
       "      <td>2019-02-07 03:27:23.937000+00:00</td>\n",
       "      <td>NaN</td>\n",
       "      <td>0</td>\n",
       "      <td>0.0</td>\n",
       "      <td>NaN</td>\n",
       "      <td></td>\n",
       "      <td>3741589.0</td>\n",
       "      <td>2224904.0</td>\n",
       "      <td>1.0</td>\n",
       "      <td>0.0</td>\n",
       "      <td>0</td>\n",
       "      <td>php|cyclomatic-complexity</td>\n",
       "      <td></td>\n",
       "      <td>40.0</td>\n",
       "      <td>1</td>\n",
       "      <td>php</td>\n",
       "      <td>cyclomatic-complexity</td>\n",
       "      <td>None</td>\n",
       "      <td>None</td>\n",
       "      <td>None</td>\n",
       "    </tr>\n",
       "    <tr>\n",
       "      <th>3</th>\n",
       "      <td>54405559.0</td>\n",
       "      <td>54406182</td>\n",
       "      <td>AWS Role being assumed not being used for futu...</td>\n",
       "      <td>&lt;p&gt;I am trying to assume a role in a docker co...</td>\n",
       "      <td>&lt;p&gt;Calling &lt;code&gt;assume-role&lt;/code&gt; is not goi...</td>\n",
       "      <td>54406182.0</td>\n",
       "      <td>1.0</td>\n",
       "      <td>0.0</td>\n",
       "      <td>3</td>\n",
       "      <td>None</td>\n",
       "      <td>2019-01-28 15:45:36.587000+00:00</td>\n",
       "      <td>2019-01-28 16:19:11.243000+00:00</td>\n",
       "      <td>NaN</td>\n",
       "      <td>0</td>\n",
       "      <td>0.0</td>\n",
       "      <td>NaN</td>\n",
       "      <td></td>\n",
       "      <td>4763754.0</td>\n",
       "      <td>4763754.0</td>\n",
       "      <td>1.0</td>\n",
       "      <td>1.0</td>\n",
       "      <td>2</td>\n",
       "      <td>amazon-web-services|aws-cli</td>\n",
       "      <td></td>\n",
       "      <td>25.0</td>\n",
       "      <td>1</td>\n",
       "      <td>amazon-web-services</td>\n",
       "      <td>aws-cli</td>\n",
       "      <td>None</td>\n",
       "      <td>None</td>\n",
       "      <td>None</td>\n",
       "    </tr>\n",
       "    <tr>\n",
       "      <th>4</th>\n",
       "      <td>53926163.0</td>\n",
       "      <td>53927573</td>\n",
       "      <td>generate public and private Keys in Hexadecima...</td>\n",
       "      <td>&lt;p&gt;I want please to generate the public and th...</td>\n",
       "      <td>&lt;p&gt;It doesn't seem like you are actually creat...</td>\n",
       "      <td>53927573.0</td>\n",
       "      <td>1.0</td>\n",
       "      <td>2.0</td>\n",
       "      <td>1</td>\n",
       "      <td>None</td>\n",
       "      <td>2018-12-25 23:05:23.707000+00:00</td>\n",
       "      <td>2018-12-26 04:55:30.143000+00:00</td>\n",
       "      <td>NaN</td>\n",
       "      <td>2</td>\n",
       "      <td>2.0</td>\n",
       "      <td>0.0</td>\n",
       "      <td></td>\n",
       "      <td>5759687.0</td>\n",
       "      <td>5759687.0</td>\n",
       "      <td>1.0</td>\n",
       "      <td>0.0</td>\n",
       "      <td>4</td>\n",
       "      <td>java</td>\n",
       "      <td></td>\n",
       "      <td>72.0</td>\n",
       "      <td>1</td>\n",
       "      <td>java</td>\n",
       "      <td>None</td>\n",
       "      <td>None</td>\n",
       "      <td>None</td>\n",
       "      <td>None</td>\n",
       "    </tr>\n",
       "  </tbody>\n",
       "</table>\n",
       "</div>"
      ],
      "text/plain": [
       "   question_id  answer_id  ...     3     4\n",
       "0   54309882.0   54310514  ...  None  None\n",
       "1   54461342.0   54461778  ...  None  None\n",
       "2   54565705.0   54565857  ...  None  None\n",
       "3   54405559.0   54406182  ...  None  None\n",
       "4   53926163.0   53927573  ...  None  None\n",
       "\n",
       "[5 rows x 31 columns]"
      ]
     },
     "execution_count": 24,
     "metadata": {
      "tags": []
     },
     "output_type": "execute_result"
    }
   ],
   "source": [
    "df1.last_activity_date=(df1.last_activity_date - df1.que_creation_date).dt.days\n",
    "df1.que_last_edit_date=(df1.que_last_edit_date - df1.que_creation_date).dt.days\n",
    "df1.ans_last_edit_date=(df1.ans_last_edit_date - df1.ans_creation_date).dt.days\n",
    "df1.head()"
   ]
  },
  {
   "cell_type": "code",
   "execution_count": 25,
   "metadata": {
    "colab": {
     "base_uri": "https://localhost:8080/",
     "height": 561
    },
    "colab_type": "code",
    "id": "C8YRUMEAOim9",
    "outputId": "d97945d6-3ca7-4f32-ca79-5a07d4e928e9"
   },
   "outputs": [
    {
     "data": {
      "text/plain": [
       "question_id                             float64\n",
       "answer_id                                 int64\n",
       "title                                    object\n",
       "question_body                            object\n",
       "answer_body                              object\n",
       "accepted_answer_id                      float64\n",
       "answer_count                            float64\n",
       "que_comment_count                       float64\n",
       "ans_comment_count                         int64\n",
       "community_owned_date                     object\n",
       "que_creation_date           datetime64[ns, UTC]\n",
       "ans_creation_date           datetime64[ns, UTC]\n",
       "favorite_count                          float64\n",
       "last_activity_date                        int64\n",
       "que_last_edit_date                      float64\n",
       "ans_last_edit_date                      float64\n",
       "last_editor_display_name                 object\n",
       "last_editor_user_id                     float64\n",
       "owner_user_id                           float64\n",
       "post_type_id                            float64\n",
       "que_score                               float64\n",
       "ans_score                                 int64\n",
       "que_tags                                 object\n",
       "ans_tags                                 object\n",
       "que_view_count                          float64\n",
       "answer_probability                        int64\n",
       "0                                        object\n",
       "1                                        object\n",
       "2                                        object\n",
       "3                                        object\n",
       "4                                        object\n",
       "dtype: object"
      ]
     },
     "execution_count": 25,
     "metadata": {
      "tags": []
     },
     "output_type": "execute_result"
    }
   ],
   "source": [
    "df1.dtypes"
   ]
  },
  {
   "cell_type": "markdown",
   "metadata": {
    "colab_type": "text",
    "id": "ALWH6qXfP9n7"
   },
   "source": [
    "Replace numerical columns with 0 and tag columns with \"no tag\""
   ]
  },
  {
   "cell_type": "code",
   "execution_count": 26,
   "metadata": {
    "colab": {
     "base_uri": "https://localhost:8080/",
     "height": 595
    },
    "colab_type": "code",
    "id": "B_hGH0PhDXya",
    "outputId": "1d2cf7ef-ec4b-4674-8df9-46a5b089d30c"
   },
   "outputs": [
    {
     "name": "stdout",
     "output_type": "stream",
     "text": [
      "50569\n",
      "13468\n",
      "question_id                    0\n",
      "answer_id                      0\n",
      "title                          0\n",
      "question_body                  0\n",
      "answer_body                    0\n",
      "accepted_answer_id             0\n",
      "answer_count                   0\n",
      "que_comment_count              0\n",
      "ans_comment_count              0\n",
      "community_owned_date        9316\n",
      "que_creation_date              0\n",
      "ans_creation_date              0\n",
      "favorite_count                 0\n",
      "last_activity_date             0\n",
      "que_last_edit_date             0\n",
      "ans_last_edit_date             0\n",
      "last_editor_display_name       0\n",
      "last_editor_user_id         4107\n",
      "owner_user_id                 45\n",
      "post_type_id                   0\n",
      "que_score                      0\n",
      "ans_score                      0\n",
      "que_tags                       0\n",
      "ans_tags                       0\n",
      "que_view_count                 0\n",
      "answer_probability             0\n",
      "0                              0\n",
      "1                              0\n",
      "2                              0\n",
      "3                              0\n",
      "4                              0\n",
      "dtype: int64\n"
     ]
    }
   ],
   "source": [
    "print(df1.isnull().sum().sum())\n",
    "df1.loc[:,['favorite_count','que_last_edit_date','ans_last_edit_date']]=df1.loc[:,['favorite_count','que_last_edit_date','ans_last_edit_date']].fillna(0,inplace=False)\n",
    "df1.loc[:,[1,2,3,4]]=df1.loc[:,[1,2,3,4]].fillna('no tag',inplace=False)\n",
    "print(df1.isnull().sum().sum())\n",
    "print(df1.isnull().sum())"
   ]
  },
  {
   "cell_type": "markdown",
   "metadata": {
    "colab_type": "text",
    "id": "794qUEFRQzFg"
   },
   "source": [
    "Drop the useless columns"
   ]
  },
  {
   "cell_type": "code",
   "execution_count": 27,
   "metadata": {
    "colab": {
     "base_uri": "https://localhost:8080/",
     "height": 391
    },
    "colab_type": "code",
    "id": "I4V2P3eTEeXN",
    "outputId": "c7e8ef7f-3e9d-4e16-8474-583986514cff"
   },
   "outputs": [
    {
     "name": "stdout",
     "output_type": "stream",
     "text": [
      "(9316, 20)\n",
      "title                       0\n",
      "question_body               0\n",
      "answer_body                 0\n",
      "answer_count                0\n",
      "que_comment_count           0\n",
      "ans_comment_count           0\n",
      "favorite_count              0\n",
      "last_activity_date          0\n",
      "que_last_edit_date          0\n",
      "ans_last_edit_date          0\n",
      "last_editor_display_name    0\n",
      "que_score                   0\n",
      "ans_score                   0\n",
      "que_view_count              0\n",
      "answer_probability          0\n",
      "0                           0\n",
      "1                           0\n",
      "2                           0\n",
      "3                           0\n",
      "4                           0\n",
      "dtype: int64\n"
     ]
    }
   ],
   "source": [
    "df1=df1.drop(axis=1,labels=['community_owned_date', 'last_editor_user_id', 'owner_user_id', 'post_type_id', 'que_creation_date', 'ans_creation_date', 'que_tags', 'question_id',\t'answer_id', 'accepted_answer_id', 'ans_tags'])\n",
    "print(df1.shape)\n",
    "print(df1.isnull().sum())"
   ]
  },
  {
   "cell_type": "markdown",
   "metadata": {
    "colab_type": "text",
    "id": "gjYQhGiIQ35S"
   },
   "source": [
    "Assign each tag a number"
   ]
  },
  {
   "cell_type": "code",
   "execution_count": 28,
   "metadata": {
    "colab": {
     "base_uri": "https://localhost:8080/",
     "height": 547
    },
    "colab_type": "code",
    "id": "-2xyHZn_U_wa",
    "outputId": "4f2c22c7-2d45-4af6-e8c3-356a02f01905"
   },
   "outputs": [
    {
     "data": {
      "text/html": [
       "<div>\n",
       "<style scoped>\n",
       "    .dataframe tbody tr th:only-of-type {\n",
       "        vertical-align: middle;\n",
       "    }\n",
       "\n",
       "    .dataframe tbody tr th {\n",
       "        vertical-align: top;\n",
       "    }\n",
       "\n",
       "    .dataframe thead th {\n",
       "        text-align: right;\n",
       "    }\n",
       "</style>\n",
       "<table border=\"1\" class=\"dataframe\">\n",
       "  <thead>\n",
       "    <tr style=\"text-align: right;\">\n",
       "      <th></th>\n",
       "      <th>title</th>\n",
       "      <th>question_body</th>\n",
       "      <th>answer_body</th>\n",
       "      <th>answer_count</th>\n",
       "      <th>que_comment_count</th>\n",
       "      <th>ans_comment_count</th>\n",
       "      <th>favorite_count</th>\n",
       "      <th>last_activity_date</th>\n",
       "      <th>que_last_edit_date</th>\n",
       "      <th>ans_last_edit_date</th>\n",
       "      <th>last_editor_display_name</th>\n",
       "      <th>que_score</th>\n",
       "      <th>ans_score</th>\n",
       "      <th>que_view_count</th>\n",
       "      <th>answer_probability</th>\n",
       "      <th>0</th>\n",
       "      <th>1</th>\n",
       "      <th>2</th>\n",
       "      <th>3</th>\n",
       "      <th>4</th>\n",
       "    </tr>\n",
       "  </thead>\n",
       "  <tbody>\n",
       "    <tr>\n",
       "      <th>0</th>\n",
       "      <td>What initializer called in convenience init of...</td>\n",
       "      <td>&lt;p&gt;I often use convenience init in &lt;code&gt;UIVie...</td>\n",
       "      <td>&lt;p&gt;&lt;code&gt;UIViewController.init&lt;/code&gt; calls &lt;c...</td>\n",
       "      <td>3.0</td>\n",
       "      <td>0.0</td>\n",
       "      <td>1</td>\n",
       "      <td>0.0</td>\n",
       "      <td>0</td>\n",
       "      <td>0.0</td>\n",
       "      <td>0.0</td>\n",
       "      <td></td>\n",
       "      <td>2.0</td>\n",
       "      <td>3</td>\n",
       "      <td>58.0</td>\n",
       "      <td>1</td>\n",
       "      <td>5400</td>\n",
       "      <td>5759</td>\n",
       "      <td>2699</td>\n",
       "      <td>3721</td>\n",
       "      <td>3721</td>\n",
       "    </tr>\n",
       "    <tr>\n",
       "      <th>1</th>\n",
       "      <td>Is there any way to undertake rounding with cu...</td>\n",
       "      <td>&lt;p&gt;I'm wondering if there's any way to round u...</td>\n",
       "      <td>&lt;p&gt;You could just offset the numbers before ro...</td>\n",
       "      <td>2.0</td>\n",
       "      <td>2.0</td>\n",
       "      <td>3</td>\n",
       "      <td>0.0</td>\n",
       "      <td>0</td>\n",
       "      <td>0.0</td>\n",
       "      <td>0.0</td>\n",
       "      <td></td>\n",
       "      <td>0.0</td>\n",
       "      <td>1</td>\n",
       "      <td>60.0</td>\n",
       "      <td>1</td>\n",
       "      <td>4475</td>\n",
       "      <td>1443</td>\n",
       "      <td>4741</td>\n",
       "      <td>3721</td>\n",
       "      <td>3721</td>\n",
       "    </tr>\n",
       "    <tr>\n",
       "      <th>2</th>\n",
       "      <td>How to lower cyclomatic complexity of switch w...</td>\n",
       "      <td>&lt;p&gt;I have to check if a value is withing a ran...</td>\n",
       "      <td>&lt;p&gt;You can just use integer division if the nu...</td>\n",
       "      <td>2.0</td>\n",
       "      <td>3.0</td>\n",
       "      <td>0</td>\n",
       "      <td>0.0</td>\n",
       "      <td>0</td>\n",
       "      <td>0.0</td>\n",
       "      <td>0.0</td>\n",
       "      <td></td>\n",
       "      <td>0.0</td>\n",
       "      <td>0</td>\n",
       "      <td>40.0</td>\n",
       "      <td>1</td>\n",
       "      <td>4100</td>\n",
       "      <td>1363</td>\n",
       "      <td>3721</td>\n",
       "      <td>3721</td>\n",
       "      <td>3721</td>\n",
       "    </tr>\n",
       "    <tr>\n",
       "      <th>3</th>\n",
       "      <td>AWS Role being assumed not being used for futu...</td>\n",
       "      <td>&lt;p&gt;I am trying to assume a role in a docker co...</td>\n",
       "      <td>&lt;p&gt;Calling &lt;code&gt;assume-role&lt;/code&gt; is not goi...</td>\n",
       "      <td>1.0</td>\n",
       "      <td>0.0</td>\n",
       "      <td>3</td>\n",
       "      <td>0.0</td>\n",
       "      <td>0</td>\n",
       "      <td>0.0</td>\n",
       "      <td>0.0</td>\n",
       "      <td></td>\n",
       "      <td>1.0</td>\n",
       "      <td>2</td>\n",
       "      <td>25.0</td>\n",
       "      <td>1</td>\n",
       "      <td>161</td>\n",
       "      <td>620</td>\n",
       "      <td>3721</td>\n",
       "      <td>3721</td>\n",
       "      <td>3721</td>\n",
       "    </tr>\n",
       "    <tr>\n",
       "      <th>4</th>\n",
       "      <td>generate public and private Keys in Hexadecima...</td>\n",
       "      <td>&lt;p&gt;I want please to generate the public and th...</td>\n",
       "      <td>&lt;p&gt;It doesn't seem like you are actually creat...</td>\n",
       "      <td>1.0</td>\n",
       "      <td>2.0</td>\n",
       "      <td>1</td>\n",
       "      <td>0.0</td>\n",
       "      <td>2</td>\n",
       "      <td>2.0</td>\n",
       "      <td>0.0</td>\n",
       "      <td></td>\n",
       "      <td>0.0</td>\n",
       "      <td>4</td>\n",
       "      <td>72.0</td>\n",
       "      <td>1</td>\n",
       "      <td>2819</td>\n",
       "      <td>3721</td>\n",
       "      <td>3721</td>\n",
       "      <td>3721</td>\n",
       "      <td>3721</td>\n",
       "    </tr>\n",
       "  </tbody>\n",
       "</table>\n",
       "</div>"
      ],
      "text/plain": [
       "                                               title  ...     4\n",
       "0  What initializer called in convenience init of...  ...  3721\n",
       "1  Is there any way to undertake rounding with cu...  ...  3721\n",
       "2  How to lower cyclomatic complexity of switch w...  ...  3721\n",
       "3  AWS Role being assumed not being used for futu...  ...  3721\n",
       "4  generate public and private Keys in Hexadecima...  ...  3721\n",
       "\n",
       "[5 rows x 20 columns]"
      ]
     },
     "execution_count": 28,
     "metadata": {
      "tags": []
     },
     "output_type": "execute_result"
    }
   ],
   "source": [
    "encoder=LabelEncoder()\n",
    "encoder.fit(que_tags_list+['no tag'])\n",
    "df1[0]=encoder.transform(df1[0])\n",
    "df1[1]=encoder.transform(df1[1])\n",
    "df1[2]=encoder.transform(df1[2])\n",
    "df1[3]=encoder.transform(df1[3])\n",
    "df1[4]=encoder.transform(df1[4])\n",
    "df1.head()"
   ]
  },
  {
   "cell_type": "markdown",
   "metadata": {
    "colab_type": "text",
    "id": "0Yr5eG66Q_Q1"
   },
   "source": [
    "Download the required nltk libraries"
   ]
  },
  {
   "cell_type": "code",
   "execution_count": 29,
   "metadata": {
    "colab": {
     "base_uri": "https://localhost:8080/",
     "height": 102
    },
    "colab_type": "code",
    "id": "bMusyhAwZcUo",
    "outputId": "ab88b5b7-825d-4d83-85b5-073bf6ed131f"
   },
   "outputs": [
    {
     "name": "stdout",
     "output_type": "stream",
     "text": [
      "[nltk_data] Downloading package stopwords to /root/nltk_data...\n",
      "[nltk_data]   Unzipping corpora/stopwords.zip.\n",
      "[nltk_data] Downloading package wordnet to /root/nltk_data...\n",
      "[nltk_data]   Unzipping corpora/wordnet.zip.\n"
     ]
    },
    {
     "data": {
      "text/plain": [
       "True"
      ]
     },
     "execution_count": 29,
     "metadata": {
      "tags": []
     },
     "output_type": "execute_result"
    }
   ],
   "source": [
    "nltk.download('stopwords')\n",
    "nltk.download('wordnet')"
   ]
  },
  {
   "cell_type": "markdown",
   "metadata": {
    "colab_type": "text",
    "id": "4A9RbueXREBl"
   },
   "source": [
    "define functions for parsing html, stopword removal, lemmitization"
   ]
  },
  {
   "cell_type": "code",
   "execution_count": 0,
   "metadata": {
    "colab": {},
    "colab_type": "code",
    "id": "IKIy_JoCXvr-"
   },
   "outputs": [],
   "source": [
    "def strip_html(text):\n",
    "    soup = BeautifulSoup(text, \"html.parser\")\n",
    "    return re.sub(r'[^\\w\\s]', '', re.sub('\\[[^]]*\\]', '', soup.get_text()).lower()).split()\n",
    "\n",
    "def remove_stopwords(words, language='english'):\n",
    "    new_words = []\n",
    "    for word in words:\n",
    "        if word not in stopwords.words(language):\n",
    "            new_words.append(word)\n",
    "    return new_words\n",
    "\n",
    "def lemmatize_verbs(words):\n",
    "    lemmatizer = WordNetLemmatizer()\n",
    "    lemmas = []\n",
    "    for word in words:\n",
    "        lemma = lemmatizer.lemmatize(word)\n",
    "        lemmas.append(lemma)\n",
    "    return ' '.join(lemmas)"
   ]
  },
  {
   "cell_type": "code",
   "execution_count": 0,
   "metadata": {
    "colab": {},
    "colab_type": "code",
    "id": "TvoWXDuiYgnf"
   },
   "outputs": [],
   "source": [
    "def preprocess(text):\n",
    "  return lemmatize_verbs(remove_stopwords(strip_html(text)))\n"
   ]
  },
  {
   "cell_type": "markdown",
   "metadata": {
    "colab_type": "text",
    "id": "tkthpdFQS6Bc"
   },
   "source": [
    "Apply the function to text columns"
   ]
  },
  {
   "cell_type": "code",
   "execution_count": 32,
   "metadata": {
    "colab": {
     "base_uri": "https://localhost:8080/",
     "height": 51
    },
    "colab_type": "code",
    "id": "CcuK3st0fm7w",
    "outputId": "224174ca-2d54-4224-90ac-72fce60ea09b"
   },
   "outputs": [
    {
     "name": "stdout",
     "output_type": "stream",
     "text": [
      "done\n",
      "done\n"
     ]
    }
   ],
   "source": [
    "df1.question_body=df1.question_body.map(preprocess)\n",
    "print(\"done\")\n",
    "df1.title=df1.title.map(preprocess)\n",
    "print(\"done\")\n",
    "df1.answer_body=df1.answer_body.map(preprocess)"
   ]
  },
  {
   "cell_type": "markdown",
   "metadata": {
    "colab_type": "text",
    "id": "Bd6BDZbYS-nl"
   },
   "source": [
    "Use Tfidf encoding to convert text to numbers"
   ]
  },
  {
   "cell_type": "code",
   "execution_count": 0,
   "metadata": {
    "colab": {},
    "colab_type": "code",
    "id": "x8kBb8OfaM3G"
   },
   "outputs": [],
   "source": [
    "vectorizer=TfidfVectorizer(max_features=20, strip_accents='unicode')\n",
    "title_data=vectorizer.fit_transform(df1['title'])\n",
    "que_data=vectorizer.fit_transform(df1['question_body'])\n",
    "ans_data=vectorizer.fit_transform(df1['answer_body'])"
   ]
  },
  {
   "cell_type": "code",
   "execution_count": 0,
   "metadata": {
    "colab": {},
    "colab_type": "code",
    "id": "kxH5z-zIG-15"
   },
   "outputs": [],
   "source": [
    "title_cols=[\"title_\"+str(i) for i in range(20)]\n",
    "que_cols=[\"que_\"+str(i) for i in range(20)]\n",
    "ans_cols=[\"ans_\"+str(i) for i in range(20)]"
   ]
  },
  {
   "cell_type": "markdown",
   "metadata": {
    "colab_type": "text",
    "id": "26OT5b-bTJZr"
   },
   "source": [
    "Joining the dataset with the textual features"
   ]
  },
  {
   "cell_type": "code",
   "execution_count": 35,
   "metadata": {
    "colab": {
     "base_uri": "https://localhost:8080/",
     "height": 34
    },
    "colab_type": "code",
    "id": "pniCvgFef5Ic",
    "outputId": "c01d123a-e21d-4f60-da75-554c9993eee8"
   },
   "outputs": [
    {
     "data": {
      "text/plain": [
       "(9316, 80)"
      ]
     },
     "execution_count": 35,
     "metadata": {
      "tags": []
     },
     "output_type": "execute_result"
    }
   ],
   "source": [
    "df1=df1.reset_index(drop=True)\n",
    "dataset=df1.join(pd.DataFrame(title_data.toarray(),columns=title_cols))\n",
    "dataset=dataset.join(pd.DataFrame(que_data.toarray(),columns=que_cols))\n",
    "dataset=dataset.join(pd.DataFrame(ans_data.toarray(),columns=ans_cols))\n",
    "dataset.shape"
   ]
  },
  {
   "cell_type": "markdown",
   "metadata": {
    "colab_type": "text",
    "id": "veHuoIrITSP5"
   },
   "source": [
    "Remove the columns which are not required"
   ]
  },
  {
   "cell_type": "code",
   "execution_count": 36,
   "metadata": {
    "colab": {
     "base_uri": "https://localhost:8080/",
     "height": 34
    },
    "colab_type": "code",
    "id": "sF92jxJfIHV7",
    "outputId": "3cbf8303-7d49-4989-e079-fee0d7085030"
   },
   "outputs": [
    {
     "name": "stdout",
     "output_type": "stream",
     "text": [
      "(9316, 75)\n"
     ]
    }
   ],
   "source": [
    "dataset=dataset.drop(axis=1,labels=['title','question_body', 'answer_body', 'last_editor_display_name', 'ans_last_edit_date'])\n",
    "print(dataset.shape)"
   ]
  },
  {
   "cell_type": "code",
   "execution_count": 37,
   "metadata": {
    "colab": {
     "base_uri": "https://localhost:8080/",
     "height": 34
    },
    "colab_type": "code",
    "id": "PvgyraN4Q2bl",
    "outputId": "1c7f654e-13a3-4b0d-9427-2c86a92c4b35"
   },
   "outputs": [
    {
     "data": {
      "text/plain": [
       "(9316, 75)"
      ]
     },
     "execution_count": 37,
     "metadata": {
      "tags": []
     },
     "output_type": "execute_result"
    }
   ],
   "source": [
    "dataset3=dataset.copy()\n",
    "dataset3.shape"
   ]
  },
  {
   "cell_type": "markdown",
   "metadata": {
    "colab_type": "text",
    "id": "1G7wuTdKTZ1v"
   },
   "source": [
    "Create the training and validation set"
   ]
  },
  {
   "cell_type": "code",
   "execution_count": 38,
   "metadata": {
    "colab": {
     "base_uri": "https://localhost:8080/",
     "height": 34
    },
    "colab_type": "code",
    "id": "fO-9ph3zRRiw",
    "outputId": "faa47a08-8b88-4460-ad22-36deacdef93f"
   },
   "outputs": [
    {
     "name": "stdout",
     "output_type": "stream",
     "text": [
      "(7452, 74) (1864, 74) (7452,) (1864,)\n"
     ]
    }
   ],
   "source": [
    "X_train, X_test, Y_train, Y_test=train_test_split(dataset3.drop('answer_probability', axis=1),dataset3['answer_probability'], random_state=23, test_size=0.2)\n",
    "print(X_train.shape, X_test.shape, Y_train.shape, Y_test.shape)"
   ]
  },
  {
   "cell_type": "markdown",
   "metadata": {
    "colab_type": "text",
    "id": "ddxj8O3UTfae"
   },
   "source": [
    "Use the random forest classifier and determine the accuracy using the ROC curve"
   ]
  },
  {
   "cell_type": "code",
   "execution_count": 39,
   "metadata": {
    "colab": {
     "base_uri": "https://localhost:8080/",
     "height": 320
    },
    "colab_type": "code",
    "id": "iJF-7BDuOp0i",
    "outputId": "1e814f37-2cd3-4df9-9d1b-4e06c3eb4afd"
   },
   "outputs": [
    {
     "name": "stdout",
     "output_type": "stream",
     "text": [
      "Traing Accuracy= 1.0\n",
      "Validation Accuracy= 0.9892703862660944\n",
      "0.9893390191897655\n"
     ]
    },
    {
     "data": {
      "image/png": "[encoded data removed]",
      "text/plain": [
       "<Figure size 432x288 with 1 Axes>"
      ]
     },
     "metadata": {
      "tags": []
     },
     "output_type": "display_data"
    }
   ],
   "source": [
    "model=RandomForestClassifier(n_estimators=100, n_jobs=5)\n",
    "model.fit(X_train, Y_train)\n",
    "print(\"Traing Accuracy=\",model.score(X_train, Y_train))\n",
    "print(\"Validation Accuracy=\",model.score(X_test, Y_test))\n",
    "auc = roc_auc_score(Y_test, model.predict(X_test))\n",
    "print(auc)\n",
    "fpr, tpr, thresholds = roc_curve(Y_test, model.predict(X_test))\n",
    "plt.plot(fpr, tpr, color='orange', label='ROC')\n",
    "fpr, tpr, thresholds = roc_curve(Y_test, model.predict_proba(X_test)[:,1])\n",
    "plt.plot(fpr, tpr, color='green', label='ROC')\n",
    "plt.plot([0, 1], [0, 1], color='darkblue', linestyle='--')\n",
    "plt.show()"
   ]
  },
  {
   "cell_type": "markdown",
   "metadata": {
    "colab_type": "text",
    "id": "sTd3VVv0P9U6"
   },
   "source": [
    "Model #2 : without using any of the answer features/details"
   ]
  },
  {
   "cell_type": "code",
   "execution_count": 40,
   "metadata": {
    "colab": {
     "base_uri": "https://localhost:8080/",
     "height": 34
    },
    "colab_type": "code",
    "id": "uLpvCB7sPyw6",
    "outputId": "06b4551f-b89b-417c-bb81-3ad070638b76"
   },
   "outputs": [
    {
     "data": {
      "text/plain": [
       "(9316, 60)"
      ]
     },
     "execution_count": 40,
     "metadata": {
      "tags": []
     },
     "output_type": "execute_result"
    }
   ],
   "source": [
    "dataset=df1.join(pd.DataFrame(title_data.toarray(),columns=title_cols))\n",
    "dataset=dataset.join(pd.DataFrame(que_data.toarray(),columns=que_cols))\n",
    "dataset.shape"
   ]
  },
  {
   "cell_type": "markdown",
   "metadata": {
    "colab_type": "text",
    "id": "GvQtDeFnTyT3"
   },
   "source": [
    "delete the colmns which are not required"
   ]
  },
  {
   "cell_type": "code",
   "execution_count": 41,
   "metadata": {
    "colab": {
     "base_uri": "https://localhost:8080/",
     "height": 34
    },
    "colab_type": "code",
    "id": "ySg059CPQLQs",
    "outputId": "3940f043-b9b5-4040-8172-7ae77d79abe0"
   },
   "outputs": [
    {
     "name": "stdout",
     "output_type": "stream",
     "text": [
      "(9316, 52)\n"
     ]
    }
   ],
   "source": [
    "dataset=dataset.drop(axis=1,labels=['title','question_body', 'answer_body', 'last_editor_display_name', 'ans_last_edit_date','answer_count', 'ans_comment_count', 'ans_score'])\n",
    "print(dataset.shape)"
   ]
  },
  {
   "cell_type": "code",
   "execution_count": 42,
   "metadata": {
    "colab": {
     "base_uri": "https://localhost:8080/",
     "height": 34
    },
    "colab_type": "code",
    "id": "i1JGlYFzQU1Q",
    "outputId": "7225ca52-eb66-4420-8125-bce885c146c9"
   },
   "outputs": [
    {
     "data": {
      "text/plain": [
       "(9316, 52)"
      ]
     },
     "execution_count": 42,
     "metadata": {
      "tags": []
     },
     "output_type": "execute_result"
    }
   ],
   "source": [
    "dataset3=dataset.copy()\n",
    "dataset3.shape"
   ]
  },
  {
   "cell_type": "markdown",
   "metadata": {
    "colab_type": "text",
    "id": "j9bH214zT3NX"
   },
   "source": [
    "Training and validation set"
   ]
  },
  {
   "cell_type": "code",
   "execution_count": 43,
   "metadata": {
    "colab": {
     "base_uri": "https://localhost:8080/",
     "height": 34
    },
    "colab_type": "code",
    "id": "nBGxY3MJQU1j",
    "outputId": "9a7b2dff-2350-4aa0-dc25-44fa0a65e9e2"
   },
   "outputs": [
    {
     "name": "stdout",
     "output_type": "stream",
     "text": [
      "(7452, 51) (1864, 51) (7452,) (1864,)\n"
     ]
    }
   ],
   "source": [
    "X_train, X_test, Y_train, Y_test=train_test_split(dataset3.drop('answer_probability', axis=1),dataset3['answer_probability'], random_state=23, test_size=0.2)\n",
    "print(X_train.shape, X_test.shape, Y_train.shape, Y_test.shape)"
   ]
  },
  {
   "cell_type": "markdown",
   "metadata": {
    "colab_type": "text",
    "id": "m7N_eB79T9Ok"
   },
   "source": [
    "Using random forest for predicting he probabilities"
   ]
  },
  {
   "cell_type": "code",
   "execution_count": 44,
   "metadata": {
    "colab": {
     "base_uri": "https://localhost:8080/",
     "height": 320
    },
    "colab_type": "code",
    "id": "cmyat6M8Qd1z",
    "outputId": "500a9333-6e88-4bba-cfcf-a0c102b55b9b"
   },
   "outputs": [
    {
     "name": "stdout",
     "output_type": "stream",
     "text": [
      "Traing Accuracy= 1.0\n",
      "Validation Accuracy= 0.9892703862660944\n",
      "0.9893390191897655\n"
     ]
    },
    {
     "data": {
      "image/png": "[encoded data removed]",
      "text/plain": [
       "<Figure size 432x288 with 1 Axes>"
      ]
     },
     "metadata": {
      "tags": []
     },
     "output_type": "display_data"
    }
   ],
   "source": [
    "model=RandomForestClassifier(n_estimators=100, n_jobs=5)\n",
    "model.fit(X_train, Y_train)\n",
    "print(\"Traing Accuracy=\",model.score(X_train, Y_train))\n",
    "print(\"Validation Accuracy=\",model.score(X_test, Y_test))\n",
    "auc = roc_auc_score(Y_test, model.predict(X_test))\n",
    "print(auc)\n",
    "fpr, tpr, thresholds = roc_curve(Y_test, model.predict(X_test))\n",
    "plt.plot(fpr, tpr, color='orange', label='ROC')\n",
    "fpr, tpr, thresholds = roc_curve(Y_test, model.predict_proba(X_test)[:,1])\n",
    "plt.plot(fpr, tpr, color='green', label='ROC')\n",
    "plt.plot([0, 1], [0, 1], color='darkblue', linestyle='--')\n",
    "plt.show()"
   ]
  },
  {
   "cell_type": "markdown",
   "metadata": {
    "colab_type": "text",
    "id": "sbLfK3MlUIRm"
   },
   "source": [
    "Final validation probabilities"
   ]
  },
  {
   "cell_type": "code",
   "execution_count": 45,
   "metadata": {
    "colab": {
     "base_uri": "https://localhost:8080/",
     "height": 34
    },
    "colab_type": "code",
    "id": "t7KTsjY6R2kI",
    "outputId": "470ef2b2-4627-4c08-ae3f-f1e0f927dfe4"
   },
   "outputs": [
    {
     "data": {
      "text/plain": [
       "array([0.07, 0.92, 0.05, ..., 0.15, 0.1 , 0.13])"
      ]
     },
     "execution_count": 45,
     "metadata": {
      "tags": []
     },
     "output_type": "execute_result"
    }
   ],
   "source": [
    "model.predict_proba(X_test)[:,1]"
   ]
  }
 ],
 "metadata": {
  "colab": {
   "collapsed_sections": [],
   "name": "Sanket Agrawal mltest.ipynb",
   "provenance": [],
   "version": "0.3.2"
  },
  "kernelspec": {
   "display_name": "Python 3",
   "language": "python",
   "name": "python3"
  },
  "language_info": {
   "codemirror_mode": {
    "name": "ipython",
    "version": 3
   },
   "file_extension": ".py",
   "mimetype": "text/x-python",
   "name": "python",
   "nbconvert_exporter": "python",
   "pygments_lexer": "ipython3",
   "version": "3.6.6"
  }
 },
 "nbformat": 4,
 "nbformat_minor": 1
}
